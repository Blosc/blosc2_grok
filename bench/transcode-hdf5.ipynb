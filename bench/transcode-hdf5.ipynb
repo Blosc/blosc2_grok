{
 "cells": [
  {
   "cell_type": "code",
   "execution_count": null,
   "outputs": [],
   "source": [
    "##############################################################################\n",
    "# blosc2_grok: Grok (JPEG2000 codec) plugin for Blosc2\n",
    "#\n",
    "# Copyright (c) 2023  The Blosc Development Team <blosc@blosc.org>\n",
    "# https://blosc.org\n",
    "# License: GNU Affero General Public License v3.0 (see LICENSE.txt)\n",
    "##############################################################################\n",
    "\n",
    "\"\"\"\n",
    "Benchmark for compressing a dataset of images with the grok codec and store it into HDF5.\n",
    "\n",
    "Data can be downloaded from: http://www.silx.org/pub/nabu/data/compression/lung_raw_2000-2100.h5\n",
    "\"\"\""
   ],
   "metadata": {
    "collapsed": false,
    "is_executing": true
   },
   "id": "8421af3afa8cffac"
  },
  {
   "cell_type": "code",
   "execution_count": 1,
   "outputs": [],
   "source": [
    "import h5py\n",
    "import blosc2\n",
    "import blosc2_grok\n",
    "import numpy as np\n",
    "import hdf5plugin\n",
    "from skimage.metrics import structural_similarity as ssim\n",
    "from tqdm import tqdm\n",
    "import matplotlib.pyplot as plt"
   ],
   "metadata": {
    "collapsed": false,
    "ExecuteTime": {
     "end_time": "2023-12-18T13:28:48.455207Z",
     "start_time": "2023-12-18T13:28:45.085453Z"
    }
   },
   "id": "32b99b422b688870"
  },
  {
   "cell_type": "code",
   "execution_count": 2,
   "outputs": [],
   "source": [
    "# Register grok codec locally\n",
    "blosc2.register_codec('grok', 160)"
   ],
   "metadata": {
    "collapsed": false,
    "ExecuteTime": {
     "end_time": "2023-12-18T13:28:52.950493Z",
     "start_time": "2023-12-18T13:28:52.945059Z"
    }
   },
   "id": "5aed3cac86499bda"
  },
  {
   "cell_type": "code",
   "execution_count": 3,
   "outputs": [],
   "source": [
    "# Define the compression and decompression parameters for Blosc2.\n",
    "# Disable the filters and the splitmode, because these don't work with grok.\n",
    "cparams = {\n",
    "    'codec': 160,\n",
    "    'nthreads': 1,\n",
    "    'filters': [],\n",
    "    'splitmode': blosc2.SplitMode.NEVER_SPLIT,\n",
    "}"
   ],
   "metadata": {
    "collapsed": false,
    "ExecuteTime": {
     "end_time": "2023-12-18T13:28:55.136066Z",
     "start_time": "2023-12-18T13:28:55.127481Z"
    }
   },
   "id": "bdc2562ffeb12a75"
  },
  {
   "cell_type": "code",
   "execution_count": 5,
   "outputs": [],
   "source": [
    "# Compression params for identifying the codec. In the future, one should be able to\n",
    "# specify the rok plugin (and its parameters) here.\n",
    "b2params = hdf5plugin.Blosc2()"
   ],
   "metadata": {
    "collapsed": false,
    "ExecuteTime": {
     "end_time": "2023-12-18T13:30:00.768597Z",
     "start_time": "2023-12-18T13:30:00.763936Z"
    }
   },
   "id": "46ddae227e0dfa65"
  },
  {
   "cell_type": "code",
   "execution_count": 4,
   "outputs": [
    {
     "name": "stdout",
     "output_type": "stream",
     "text": [
      "Compressing dataset of (100, 1024, 2048) images ...\n"
     ]
    }
   ],
   "source": [
    "# Open the dataset\n",
    "f = h5py.File('/Users/faltet/Downloads/lung_raw_2000-2100.h5', 'r')\n",
    "dset = f['/data']\n",
    "print(f\"Compressing dataset of {dset.shape} images ...\")"
   ],
   "metadata": {
    "collapsed": false,
    "ExecuteTime": {
     "end_time": "2023-12-18T13:28:59.210811Z",
     "start_time": "2023-12-18T13:28:59.205732Z"
    }
   },
   "id": "ecf05d785411c2f9"
  },
  {
   "cell_type": "code",
   "execution_count": 6,
   "outputs": [
    {
     "name": "stdout",
     "output_type": "stream",
     "text": [
      "Compressing with cratio=1x ...\n"
     ]
    },
    {
     "name": "stderr",
     "output_type": "stream",
     "text": [
      "100%|██████████| 100/100 [00:11<00:00,  8.35it/s]\n"
     ]
    },
    {
     "name": "stdout",
     "output_type": "stream",
     "text": [
      "SSIM lossy: 1.0\n",
      "Compressing with cratio=2x ...\n"
     ]
    },
    {
     "name": "stderr",
     "output_type": "stream",
     "text": [
      "100%|██████████| 100/100 [00:12<00:00,  8.29it/s]\n"
     ]
    },
    {
     "name": "stdout",
     "output_type": "stream",
     "text": [
      "SSIM lossy: 0.9999916447775955\n",
      "Compressing with cratio=3x ...\n"
     ]
    },
    {
     "name": "stderr",
     "output_type": "stream",
     "text": [
      "100%|██████████| 100/100 [00:12<00:00,  8.29it/s]\n"
     ]
    },
    {
     "name": "stdout",
     "output_type": "stream",
     "text": [
      "SSIM lossy: 0.9997366286504493\n",
      "Compressing with cratio=4x ...\n"
     ]
    },
    {
     "name": "stderr",
     "output_type": "stream",
     "text": [
      "100%|██████████| 100/100 [00:12<00:00,  8.32it/s]\n"
     ]
    },
    {
     "name": "stdout",
     "output_type": "stream",
     "text": [
      "SSIM lossy: 0.998480645565877\n",
      "Compressing with cratio=5x ...\n"
     ]
    },
    {
     "name": "stderr",
     "output_type": "stream",
     "text": [
      "100%|██████████| 100/100 [00:12<00:00,  8.28it/s]\n"
     ]
    },
    {
     "name": "stdout",
     "output_type": "stream",
     "text": [
      "SSIM lossy: 0.9953252792409132\n",
      "Compressing with cratio=6x ...\n"
     ]
    },
    {
     "name": "stderr",
     "output_type": "stream",
     "text": [
      "100%|██████████| 100/100 [00:12<00:00,  8.32it/s]\n"
     ]
    },
    {
     "name": "stdout",
     "output_type": "stream",
     "text": [
      "SSIM lossy: 0.99017780867514\n",
      "Compressing with cratio=7x ...\n"
     ]
    },
    {
     "name": "stderr",
     "output_type": "stream",
     "text": [
      "100%|██████████| 100/100 [00:12<00:00,  8.20it/s]\n"
     ]
    },
    {
     "name": "stdout",
     "output_type": "stream",
     "text": [
      "SSIM lossy: 0.9834849765953608\n",
      "Compressing with cratio=8x ...\n"
     ]
    },
    {
     "name": "stderr",
     "output_type": "stream",
     "text": [
      "100%|██████████| 100/100 [00:11<00:00,  8.34it/s]\n"
     ]
    },
    {
     "name": "stdout",
     "output_type": "stream",
     "text": [
      "SSIM lossy: 0.9760613417147925\n",
      "Compressing with cratio=9x ...\n"
     ]
    },
    {
     "name": "stderr",
     "output_type": "stream",
     "text": [
      "100%|██████████| 100/100 [00:12<00:00,  8.30it/s]\n"
     ]
    },
    {
     "name": "stdout",
     "output_type": "stream",
     "text": [
      "SSIM lossy: 0.9691640482889801\n",
      "Compressing with cratio=10x ...\n"
     ]
    },
    {
     "name": "stderr",
     "output_type": "stream",
     "text": [
      "100%|██████████| 100/100 [00:12<00:00,  8.26it/s]"
     ]
    },
    {
     "name": "stdout",
     "output_type": "stream",
     "text": [
      "SSIM lossy: 0.9620092727516698\n"
     ]
    },
    {
     "name": "stderr",
     "output_type": "stream",
     "text": [
      "\n"
     ]
    }
   ],
   "source": [
    "# Compress the dataset with different compression ratios\n",
    "ssims_lossy = []\n",
    "for cratio in range(1, 11):\n",
    "    print(f\"Compressing with cratio={cratio}x ...\")\n",
    "    # Set the parameters that will be used by grok\n",
    "    kwargs = {\n",
    "        'cod_format': blosc2_grok.GrkFileFmt.GRK_FMT_JP2,\n",
    "        'num_threads': 1,  # this does not have any effect (grok should work in multithreading mode)\n",
    "        'quality_mode': \"rates\",\n",
    "        'quality_layers': np.array([cratio], dtype=np.float64)\n",
    "    }\n",
    "    blosc2_grok.set_params_defaults(**kwargs)\n",
    "\n",
    "    # Open the output file\n",
    "    fout = h5py.File(f'/Users/faltet/Downloads/lung_jpeg2k_2000-2100-{cratio}x.h5', 'w')\n",
    "    chunks = (1,) + dset.shape[1:]\n",
    "    dset_out = fout.create_dataset('/data', shape=dset.shape, dtype=dset.dtype, chunks=chunks, **b2params)\n",
    "\n",
    "    for i in tqdm(range(dset.shape[0])):\n",
    "        im = dset[i:i+1, ...]\n",
    "        # Transform the numpy array to a blosc2 array. This is where compression happens.\n",
    "        b2im = blosc2.asarray(im, chunks=im.shape, blocks=im.shape, cparams=cparams)\n",
    "\n",
    "        # Write to disk\n",
    "        dset_out.id.write_direct_chunk((i, 0, 0), b2im.schunk.to_cframe())\n",
    "        if i == 0:\n",
    "            # Compare with the original image\n",
    "            im2 = b2im[:]\n",
    "            ssim_lossy = ssim(im[0], im2[0], data_range=im.max() - im.min())\n",
    "            ssims_lossy.append(ssim_lossy)\n",
    "    print(f\"SSIM lossy: {ssim_lossy}\")\n",
    "    fout.close()\n",
    "f.close()"
   ],
   "metadata": {
    "collapsed": false,
    "ExecuteTime": {
     "end_time": "2023-12-18T13:32:19.181530Z",
     "start_time": "2023-12-18T13:30:18.504400Z"
    }
   },
   "id": "4dbe1b1ad467f468"
  },
  {
   "cell_type": "code",
   "execution_count": 7,
   "outputs": [
    {
     "data": {
      "text/plain": "[<matplotlib.lines.Line2D at 0x137309790>]"
     },
     "execution_count": 7,
     "metadata": {},
     "output_type": "execute_result"
    },
    {
     "data": {
      "text/plain": "<Figure size 640x480 with 1 Axes>",
      "image/png": "[encoded data removed]"
     },
     "metadata": {},
     "output_type": "display_data"
    }
   ],
   "source": [
    "plt.plot(range(1, 11), ssims_lossy)"
   ],
   "metadata": {
    "collapsed": false,
    "ExecuteTime": {
     "end_time": "2023-12-18T13:32:23.272072Z",
     "start_time": "2023-12-18T13:32:23.091615Z"
    }
   },
   "id": "9d72d5b5fd273ce7"
  },
  {
   "cell_type": "code",
   "execution_count": null,
   "outputs": [],
   "source": [],
   "metadata": {
    "collapsed": false
   },
   "id": "5e1bc3978ae8183e"
  }
 ],
 "metadata": {
  "kernelspec": {
   "display_name": "Python 3",
   "language": "python",
   "name": "python3"
  },
  "language_info": {
   "codemirror_mode": {
    "name": "ipython",
    "version": 2
   },
   "file_extension": ".py",
   "mimetype": "text/x-python",
   "name": "python",
   "nbconvert_exporter": "python",
   "pygments_lexer": "ipython2",
   "version": "2.7.6"
  }
 },
 "nbformat": 4,
 "nbformat_minor": 5
}
